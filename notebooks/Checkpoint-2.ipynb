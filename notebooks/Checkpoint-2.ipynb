{
 "cells": [
  {
   "cell_type": "code",
   "execution_count": null,
   "metadata": {},
   "outputs": [],
   "source": [
    "from IPython.display import HTML, Image, display\n",
    "\n",
    "HTML('''<script>\n",
    "code_show=true; \n",
    "function code_toggle() {\n",
    " if (code_show){\n",
    " $('div.input').hide();\n",
    " } else {\n",
    " $('div.input').show();\n",
    " }\n",
    " code_show = !code_show\n",
    "} \n",
    "$( document ).ready(code_toggle);\n",
    "</script>\n",
    "<form action=\"javascript:code_toggle()\"><input type=\"submit\" value=\"Click here to toggle on/off the raw code.\"></form>''')"
   ]
  },
  {
   "cell_type": "code",
   "execution_count": null,
   "metadata": {},
   "outputs": [],
   "source": [
    "import pandas as pd\n",
    "import numpy as np\n",
    "import matplotlib.pyplot as plt\n",
    "from pandas.plotting import table"
   ]
  },
  {
   "cell_type": "markdown",
   "metadata": {},
   "source": [
    "Fair Policing Group 4\n",
    "=================\n",
    "### Stephanie Moore, Luis Diaz, Julian Yeh\n",
    "##### Tasks (Member assigned):\n",
    "* Cleaning + EDA on Arrests data (Stephanie) \n",
    "* Cleaning + EDA on Stops data (Luis)\n",
    "* Cleaning + EDA on Crimes data (Julian)"
   ]
  },
  {
   "cell_type": "markdown",
   "metadata": {},
   "source": [
    "# Cleaning & Exploratory Data Analysis\n",
    "## Data Cleaning\n",
    "This section addresses issues with missing values in the data as well as the data quality. Both of these serve as justifications for the logic behind the data cleaning methods."
   ]
  },
  {
   "cell_type": "markdown",
   "metadata": {},
   "source": [
    "### Crimes"
   ]
  },
  {
   "cell_type": "markdown",
   "metadata": {},
   "source": [
    "The table below shows all the columns from the raw data containing crimes that occurred from 2010 up until April 2020, along with their corresponding proportion of null values. "
   ]
  },
  {
   "cell_type": "code",
   "execution_count": null,
   "metadata": {},
   "outputs": [],
   "source": [
    "pd.read_csv('../viz/EDA/Crime/nulls_crime_raw.csv')"
   ]
  },
  {
   "cell_type": "markdown",
   "metadata": {},
   "source": [
    "The crimes data will be used to analyze the change in *criminal* behavior before and after the deployment of PredPol. Thus, several columns are irrelevant and can be dropped immediately. Additionally, some columns such as Weapon Used and Crm Cd 1-4 can be inferred from a single column, Crm Cd Desc. The columns of interest are: DR_NO, Date Rptd, AREA NAME, Rpt Dist No, Crm Cd Desc, LAT, and LON. After dropping the irrelevant columns, it can be seen from the table below that there are no missing data in the columns of interest. "
   ]
  },
  {
   "cell_type": "code",
   "execution_count": null,
   "metadata": {},
   "outputs": [],
   "source": [
    "pd.read_csv('../viz/EDA/Crime/nulls_crime_clean.csv')"
   ]
  },
  {
   "cell_type": "markdown",
   "metadata": {},
   "source": [
    "Another thing to note is that there are two additional columns, namely, Crime Type and Crime Severity. These are derived from the Crm Cd Desc column since there are 141 unique values in the original column. Among the 141 values, some are the same, but with minor typos. Some others are just the same type of crime but with different severities. The Crime Type column classifies all the values into the five types of criminal offenses. These offenses are defined as the following[1]:\n",
    "* Personal - Crimes related to either physically or mentally harming another person.\n",
    "* Property - Crimes that involve the interference with property that belongs to another.\n",
    "* Inchoate - Crimes that were initiated but incomplete, as well as contribution to crimes.\n",
    "* Statutory - Crimes that are proscribed by law such as alcohol related crimes and traffic violations.\n",
    "* Financial/Other - These are white-collar crimes where one uses deception or fraud for financial reasons.\n",
    "\n",
    "On the other hand, the Crime Severity column indicates how severe a charge was and the resulted charge. With severity increasing from left to right, the possible values are: Infraction, Wobblette, Misdemeanor, Wobbler, and Felony. A fifth value, Others, is designated for extreme, rare crimes. An example is illustrated below of how *Theft* is classified into different severities.\n",
    "* Felony: Thefts of property over \\$950.01\n",
    "* Misdemeanor: Thefts of property under \\$950\n",
    "* Wobbler: Thefts without indication of value that can be either felony and misdemeanor\n",
    "\n",
    "Similarly, *wobblettes* refer to crimes that require more information to determine whether or not they belong in infraction or misdemeanor. By categorizing the crimes into more general groups, it allows for analyzing the distribution of crimes committed throughout the years and identify potential trends or changes in trends that could be due to PredPol."
   ]
  },
  {
   "cell_type": "markdown",
   "metadata": {},
   "source": [
    "### Stops"
   ]
  },
  {
   "cell_type": "code",
   "execution_count": null,
   "metadata": {},
   "outputs": [],
   "source": [
    "# Stops Data TODO\n",
    "\n",
    "# Don't need stop type, 2nd officer information, drop descent code/keep description, drop form reference number,\n",
    "\n",
    "# Add column indicating whether reporting district is outside of officer's division (may indicate reassignment by PredPol\n",
    "# if year falls under 2013-2019, and depends on Division as well since not all divisions starting using it at the same time)\n",
    "\n",
    "# Join Reporting District with its Division (Call it Reporting Division) \n",
    "# -> Create new column \"Reassigned\" = stops['Division Description' or 'Division Number'] == stops['Reporting Division']\n",
    "\n",
    "# Select relevant graphs/tables/etc to include in checkpoint writeup"
   ]
  },
  {
   "cell_type": "markdown",
   "metadata": {},
   "source": [
    "The table below shows the proportion of missing data in each column of the stops data. Similar to the crimes data, some of the columns are irrelevant or can be inferred from others and are dropped. For example, it can be seen that most of the missing data are from columns describing the second officer. The assumption is that officers always patrol in pairs. Thus, knowing just the division number of the first officer should suffice for identifying whether a stop belongs in the control or treatment group. "
   ]
  },
  {
   "cell_type": "code",
   "execution_count": null,
   "metadata": {},
   "outputs": [],
   "source": [
    "pd.read_csv('../viz/EDA/Stops/nulls_stops_raw.csv')"
   ]
  },
  {
   "cell_type": "markdown",
   "metadata": {},
   "source": [
    "For *Officer Serial Number*, instances where that value is null are dropped since there is no relationship between the missing value and values from the other columns. For *Officer 1 Division Number* and *Division Description 1*, there are no instances where both fields are empty. Thus, the method of imputation is to infer from the other column that is not null. Both columns indicate the same information, but are both kept because the division number is later used to compare with the division number that the reporting district falls in. Different division numbers imply that the officers do not usually patrol the area where the stop occurred. For such stops to be classified as the treatment group, the stopped area must also be an area that PredPol was deployed and the year must also align. For *Post Stop Activity Indicator*, there was a clear relationship between the column and *Officer 1 Serial Number*. The first step is filtering the stops data to show only stops made by officers who had null values in the indicator column. It was observed that all the non-null instances have a single unqiue value, N. Thus, the decision is to impute null values with N which means that no further activities were taken after a stop was made. As the table below shows, all the columns are clean after performing the steps described above."
   ]
  },
  {
   "cell_type": "code",
   "execution_count": null,
   "metadata": {},
   "outputs": [],
   "source": [
    "pd.read_csv('../viz/EDA/Stops/nulls_stops_clean.csv')"
   ]
  },
  {
   "cell_type": "markdown",
   "metadata": {},
   "source": [
    "### Arrests"
   ]
  },
  {
   "cell_type": "code",
   "execution_count": null,
   "metadata": {},
   "outputs": [],
   "source": [
    "# Arrests data TODO\n",
    "\n",
    "# Waiting on census data for denominator to compute arrest rates\n",
    "\n",
    "# Writeup + choosing relevant viz"
   ]
  },
  {
   "cell_type": "markdown",
   "metadata": {},
   "source": [
    "## Exploratory Data Analysis\n",
    "This section statistically summarizes the relevant, cleaned, and derived features that are used for analysis. "
   ]
  },
  {
   "cell_type": "markdown",
   "metadata": {},
   "source": [
    "### Crimes"
   ]
  },
  {
   "cell_type": "markdown",
   "metadata": {},
   "source": [
    "### Stops"
   ]
  },
  {
   "cell_type": "markdown",
   "metadata": {},
   "source": [
    "### Arrests"
   ]
  },
  {
   "cell_type": "markdown",
   "metadata": {},
   "source": [
    "# Revisions to proposal (if any)"
   ]
  },
  {
   "cell_type": "markdown",
   "metadata": {},
   "source": [
    "# Backlog & Schedule (updated)"
   ]
  },
  {
   "cell_type": "markdown",
   "metadata": {},
   "source": [
    "[1] https://www.justia.com/criminal/offenses/"
   ]
  },
  {
   "cell_type": "code",
   "execution_count": null,
   "metadata": {},
   "outputs": [],
   "source": []
  }
 ],
 "metadata": {
  "kernelspec": {
   "display_name": "Python 3",
   "language": "python",
   "name": "python3"
  },
  "language_info": {
   "codemirror_mode": {
    "name": "ipython",
    "version": 3
   },
   "file_extension": ".py",
   "mimetype": "text/x-python",
   "name": "python",
   "nbconvert_exporter": "python",
   "pygments_lexer": "ipython3",
   "version": "3.7.3"
  }
 },
 "nbformat": 4,
 "nbformat_minor": 2
}
