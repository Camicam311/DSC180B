{
 "cells": [
  {
   "cell_type": "code",
   "execution_count": null,
   "metadata": {},
   "outputs": [],
   "source": [
    "import pandas as pd\n",
    "import numpy as np"
   ]
  },
  {
   "cell_type": "code",
   "execution_count": null,
   "metadata": {},
   "outputs": [],
   "source": [
    "# Crimes data TODO\n",
    "\n",
    "# Describe cleaning/processing steps/justifications\n",
    "\n",
    "# Select relevant viz to show"
   ]
  },
  {
   "cell_type": "code",
   "execution_count": null,
   "metadata": {},
   "outputs": [],
   "source": [
    "# Stops Data TODO\n",
    "\n",
    "# Don't need stop type, 2nd officer information, drop descent code/keep description, drop form reference number,\n",
    "\n",
    "# Add column indicating whether reporting district is outside of officer's division (may indicate reassignment by PredPol\n",
    "# if year falls under 2013-2019, and depends on Division as well since not all divisions starting using it at the same time)\n",
    "\n",
    "# Join Reporting District with its Division (Call it Reporting Division) \n",
    "# -> Create new column \"Reassigned\" = stops['Division Description' or 'Division Number'] == stops['Reporting Division']\n",
    "\n",
    "# Describe cleaning process/justification (Division, Reporting District)\n",
    "\n",
    "# Select relevant graphs/tables/etc to include in checkpoint writeup"
   ]
  },
  {
   "cell_type": "code",
   "execution_count": null,
   "metadata": {},
   "outputs": [],
   "source": [
    "stops_raw = pd.read_csv('../data/raw/stops.csv')\n",
    "stops_raw.isna().mean().round(5)"
   ]
  },
  {
   "cell_type": "code",
   "execution_count": null,
   "metadata": {},
   "outputs": [],
   "source": [
    "stops_cleaned = pd.read_csv('../data/cleaned/stops-processed.csv')\n",
    "stops_cleaned.isna().mean().round(5)"
   ]
  },
  {
   "cell_type": "code",
   "execution_count": null,
   "metadata": {},
   "outputs": [],
   "source": [
    "# Arrests data TODO\n",
    "\n",
    "# Waiting on census data for denominator to compute arrest rates\n",
    "\n",
    "# Writeup + choosing relevant viz"
   ]
  },
  {
   "cell_type": "code",
   "execution_count": null,
   "metadata": {},
   "outputs": [],
   "source": []
  }
 ],
 "metadata": {
  "kernelspec": {
   "display_name": "Python 3",
   "language": "python",
   "name": "python3"
  },
  "language_info": {
   "codemirror_mode": {
    "name": "ipython",
    "version": 3
   },
   "file_extension": ".py",
   "mimetype": "text/x-python",
   "name": "python",
   "nbconvert_exporter": "python",
   "pygments_lexer": "ipython3",
   "version": "3.7.3"
  }
 },
 "nbformat": 4,
 "nbformat_minor": 2
}
