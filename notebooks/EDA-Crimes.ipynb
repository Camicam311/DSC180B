{
 "cells": [
  {
   "cell_type": "code",
   "execution_count": null,
   "metadata": {},
   "outputs": [],
   "source": [
    "import sys\n",
    "import json\n",
    "import shutil\n",
    "import os\n",
    "import pandas as pd\n",
    "import numpy as np\n",
    "import matplotlib.pyplot as plt"
   ]
  },
  {
   "cell_type": "code",
   "execution_count": null,
   "metadata": {},
   "outputs": [],
   "source": [
    "# pd.set_option('display.max_rows', 20)\n",
    "# pd.set_option('display.max_columns', None)\n",
    "# pd.set_option('display.width', None)\n",
    "# pd.set_option('display.max_colwidth', -1)"
   ]
  },
  {
   "cell_type": "code",
   "execution_count": null,
   "metadata": {},
   "outputs": [],
   "source": [
    "crimes = pd.read_csv('..//data/cleaned/crime-processed.csv')\n",
    "\n",
    "crimes.head()"
   ]
  },
  {
   "cell_type": "code",
   "execution_count": null,
   "metadata": {},
   "outputs": [],
   "source": [
    "crimes.isnull().mean()"
   ]
  },
  {
   "cell_type": "code",
   "execution_count": null,
   "metadata": {},
   "outputs": [],
   "source": [
    "crimes.dtypes"
   ]
  },
  {
   "cell_type": "code",
   "execution_count": null,
   "metadata": {},
   "outputs": [],
   "source": [
    "# AREA NAME\n",
    "print('Number of unique divisions: {}'.format(crimes['AREA NAME'].nunique()))\n",
    "crimes['AREA NAME'].unique()"
   ]
  },
  {
   "cell_type": "code",
   "execution_count": null,
   "metadata": {},
   "outputs": [],
   "source": [
    "fig = plt.figure(figsize=(10, 8))\n",
    "ax = fig.add_subplot(1,1,1)\n",
    "crimes.groupby('AREA NAME').size().plot(kind='bar', ax=ax)"
   ]
  },
  {
   "cell_type": "code",
   "execution_count": null,
   "metadata": {},
   "outputs": [],
   "source": [
    "fig = plt.figure(figsize=(10, 8))\n",
    "ax = fig.add_subplot(1,1,1)\n",
    "crimes.loc[crimes.Year != 2020].groupby(['Year', 'AREA NAME']).size().unstack().plot(ax=ax)"
   ]
  },
  {
   "cell_type": "code",
   "execution_count": null,
   "metadata": {},
   "outputs": [],
   "source": [
    "fig = plt.figure(figsize=(10, 8))\n",
    "ax = fig.add_subplot(1,1,1)\n",
    "crimes.loc[crimes.Year != 2020].groupby('Year')['Arrested'].mean().plot()"
   ]
  },
  {
   "cell_type": "code",
   "execution_count": null,
   "metadata": {},
   "outputs": [],
   "source": [
    "arrest_by_area_year = crimes.loc[crimes.Year != 2020].groupby(['Year', 'AREA NAME'])['Arrested'].mean().unstack()\n",
    "arrest_by_area_year"
   ]
  },
  {
   "cell_type": "code",
   "execution_count": null,
   "metadata": {},
   "outputs": [],
   "source": [
    "fig=plt.figure(figsize=(16,26))\n",
    "fig.tight_layout()\n",
    "columns = 3\n",
    "rows = 7\n",
    "for idx, col in enumerate(arrest_by_area_year.columns):\n",
    "    fig.add_subplot(rows, columns, idx+1)\n",
    "    plt.plot(arrest_by_area_year[col])\n",
    "    plt.title('Arrest Rate in {}'.format(col))\n",
    "plt.show()"
   ]
  },
  {
   "cell_type": "code",
   "execution_count": null,
   "metadata": {
    "scrolled": true
   },
   "outputs": [],
   "source": [
    "# Crime Description\n",
    "# How to classify? \n",
    "# 1. Felony, misdemeanor, infraction\n",
    "# 2. Theft, burglary, murder, etc.\n",
    "print(len(crimes['Crm Cd Desc'].value_counts()))\n",
    "crimes['Crm Cd Desc'].value_counts()"
   ]
  },
  {
   "cell_type": "code",
   "execution_count": null,
   "metadata": {},
   "outputs": [],
   "source": [
    "petty = ['petty','violation','yield','dumping','pickpocket','replica firearms',]\n",
    "\n",
    "mis = ['simple assault','misdeameanor','misdemeanor','shoplift','reckless driving','abortion','inciting','disperse',\n",
    "       'beastiality','disrupt school', 'drugs, to a minor','threat','trespassing','lewd','brandish','battery with sex',\n",
    "      'battery police','contempt of court','indecent','resisting arrest','bomb scare','peeping','prowler','$950 & under',\n",
    "      'document worthless','motorized',]\n",
    "\n",
    "fel = ['felony','aggravated assault','grand','train wreck','manslaughter','incest','lynching','bribery','robbery','rape','child',\n",
    "      'sex,unlawful','arson','foreign object','extortion','dwelling','kidnap','assault with dead','$950.01 & over','traffick',\n",
    "      'pimping','pandering','homicide','chld']\n",
    "\n",
    "wob = ['dwoc','bigamy','theft','telephone property','conspiracy','burglary','discharge','stalk','oral copulation','throwing',\n",
    "      'sodomy','computer','cruelty','false imprisonment','counterfeit','false police report','battery on a firefighter',\n",
    "      'shots fired at moving','weapons possession','stolen','snatch']\n",
    "\n",
    "wobblette = ['disturbing',]\n",
    "\n",
    "def clean_crm_cd_desc(x):\n",
    "    lowered = x.lower()\n",
    "    if any(substring in lowered for substring in petty):\n",
    "        return 'Infraction'\n",
    "    elif any(substring in lowered for substring in mis):\n",
    "        return 'Misdemeanor'\n",
    "    elif any(substring in lowered for substring in fel):\n",
    "        return 'Felony'\n",
    "    elif any(substring in lowered for substring in wob):\n",
    "        return 'Wobbler'\n",
    "    elif any(substring in lowered for substring in wobblette):\n",
    "        return 'Wobblette'\n",
    "    else:\n",
    "        return 'Others'"
   ]
  },
  {
   "cell_type": "code",
   "execution_count": null,
   "metadata": {
    "scrolled": true
   },
   "outputs": [],
   "source": [
    "crimes['Crm Cd Desc'].apply(clean_crm_cd_desc).value_counts()"
   ]
  },
  {
   "cell_type": "code",
   "execution_count": null,
   "metadata": {},
   "outputs": [],
   "source": [
    "crimes['Penalty'] = crimes['Crm Cd Desc'].apply(clean_crm_cd_desc)"
   ]
  },
  {
   "cell_type": "code",
   "execution_count": null,
   "metadata": {},
   "outputs": [],
   "source": [
    "fig = plt.figure(figsize=(10, 8))\n",
    "ax = fig.add_subplot(1,1,1)\n",
    "crimes.groupby('Penalty').size().plot(kind='bar',ax=ax)"
   ]
  },
  {
   "cell_type": "code",
   "execution_count": null,
   "metadata": {},
   "outputs": [],
   "source": [
    "foo = crimes.groupby(['AREA NAME','Penalty']).size().unstack()\n",
    "foo"
   ]
  },
  {
   "cell_type": "code",
   "execution_count": null,
   "metadata": {},
   "outputs": [],
   "source": [
    "fig = plt.figure(figsize=(16, 8))\n",
    "ax = fig.add_subplot(1,1,1)\n",
    "stacked = plt.stackplot(foo.iloc[:11].index, foo.iloc[:11].T)\n",
    "legendProxies = []\n",
    "for stack in stacked:\n",
    "    legendProxies.append(plt.Rectangle((0, 0), 1, 1, fc=stack.get_facecolor()[0]))\n",
    "plt.legend(legendProxies, foo.columns)"
   ]
  },
  {
   "cell_type": "code",
   "execution_count": null,
   "metadata": {},
   "outputs": [],
   "source": [
    "fig = plt.figure(figsize=(16, 8))\n",
    "ax = fig.add_subplot(1,1,1)\n",
    "stacked = plt.stackplot(foo.iloc[11:].index, foo.iloc[11:].T)\n",
    "legendProxies = []\n",
    "for stack in stacked:\n",
    "    legendProxies.append(plt.Rectangle((0, 0), 1, 1, fc=stack.get_facecolor()[0]))\n",
    "plt.legend(legendProxies, foo.columns)"
   ]
  },
  {
   "cell_type": "code",
   "execution_count": null,
   "metadata": {},
   "outputs": [],
   "source": []
  }
 ],
 "metadata": {
  "kernelspec": {
   "display_name": "Python 3",
   "language": "python",
   "name": "python3"
  },
  "language_info": {
   "codemirror_mode": {
    "name": "ipython",
    "version": 3
   },
   "file_extension": ".py",
   "mimetype": "text/x-python",
   "name": "python",
   "nbconvert_exporter": "python",
   "pygments_lexer": "ipython3",
   "version": "3.6.2"
  }
 },
 "nbformat": 4,
 "nbformat_minor": 2
}
