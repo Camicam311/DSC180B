{
 "cells": [
  {
   "cell_type": "code",
   "execution_count": 1,
   "metadata": {},
   "outputs": [],
   "source": [
    "import sys\n",
    "import json\n",
    "import shutil\n",
    "import os\n",
    "import glob\n",
    "import pandas as pd\n",
    "from IPython.display import Image, display"
   ]
  },
  {
   "cell_type": "code",
   "execution_count": 2,
   "metadata": {},
   "outputs": [
    {
     "data": {
      "text/html": [
       "<div>\n",
       "<style scoped>\n",
       "    .dataframe tbody tr th:only-of-type {\n",
       "        vertical-align: middle;\n",
       "    }\n",
       "\n",
       "    .dataframe tbody tr th {\n",
       "        vertical-align: top;\n",
       "    }\n",
       "\n",
       "    .dataframe thead th {\n",
       "        text-align: right;\n",
       "    }\n",
       "</style>\n",
       "<table border=\"1\" class=\"dataframe\">\n",
       "  <thead>\n",
       "    <tr style=\"text-align: right;\">\n",
       "      <th></th>\n",
       "      <th>DR_NO</th>\n",
       "      <th>Date Rptd</th>\n",
       "      <th>Year</th>\n",
       "      <th>AREA NAME</th>\n",
       "      <th>Rpt Dist No</th>\n",
       "      <th>Crime Type</th>\n",
       "      <th>Crime Severity</th>\n",
       "      <th>Crm Cd Desc</th>\n",
       "      <th>Arrested</th>\n",
       "      <th>LAT</th>\n",
       "      <th>LON</th>\n",
       "    </tr>\n",
       "  </thead>\n",
       "  <tbody>\n",
       "    <tr>\n",
       "      <th>0</th>\n",
       "      <td>1307355</td>\n",
       "      <td>2010-02-20</td>\n",
       "      <td>2010</td>\n",
       "      <td>Newton</td>\n",
       "      <td>1385</td>\n",
       "      <td>Statutory</td>\n",
       "      <td>Infraction</td>\n",
       "      <td>VIOLATION OF COURT ORDER</td>\n",
       "      <td>1</td>\n",
       "      <td>33.9825</td>\n",
       "      <td>-118.2695</td>\n",
       "    </tr>\n",
       "    <tr>\n",
       "      <th>1</th>\n",
       "      <td>11401303</td>\n",
       "      <td>2010-09-13</td>\n",
       "      <td>2010</td>\n",
       "      <td>Pacific</td>\n",
       "      <td>1485</td>\n",
       "      <td>Property</td>\n",
       "      <td>Felony</td>\n",
       "      <td>VANDALISM - FELONY ($400 &amp; OVER, ALL CHURCH VA...</td>\n",
       "      <td>0</td>\n",
       "      <td>33.9599</td>\n",
       "      <td>-118.3962</td>\n",
       "    </tr>\n",
       "    <tr>\n",
       "      <th>2</th>\n",
       "      <td>70309629</td>\n",
       "      <td>2010-08-09</td>\n",
       "      <td>2010</td>\n",
       "      <td>Newton</td>\n",
       "      <td>1324</td>\n",
       "      <td>Financial/Other</td>\n",
       "      <td>Others</td>\n",
       "      <td>OTHER MISCELLANEOUS CRIME</td>\n",
       "      <td>0</td>\n",
       "      <td>34.0224</td>\n",
       "      <td>-118.2524</td>\n",
       "    </tr>\n",
       "    <tr>\n",
       "      <th>3</th>\n",
       "      <td>90631215</td>\n",
       "      <td>2010-01-05</td>\n",
       "      <td>2010</td>\n",
       "      <td>Hollywood</td>\n",
       "      <td>646</td>\n",
       "      <td>Statutory</td>\n",
       "      <td>Infraction</td>\n",
       "      <td>VIOLATION OF COURT ORDER</td>\n",
       "      <td>0</td>\n",
       "      <td>34.1016</td>\n",
       "      <td>-118.3295</td>\n",
       "    </tr>\n",
       "    <tr>\n",
       "      <th>4</th>\n",
       "      <td>100100501</td>\n",
       "      <td>2010-01-03</td>\n",
       "      <td>2010</td>\n",
       "      <td>Central</td>\n",
       "      <td>176</td>\n",
       "      <td>Inchoate</td>\n",
       "      <td>Felony</td>\n",
       "      <td>RAPE, ATTEMPTED</td>\n",
       "      <td>0</td>\n",
       "      <td>34.0387</td>\n",
       "      <td>-118.2488</td>\n",
       "    </tr>\n",
       "  </tbody>\n",
       "</table>\n",
       "</div>"
      ],
      "text/plain": [
       "       DR_NO   Date Rptd  Year  AREA NAME  Rpt Dist No       Crime Type  \\\n",
       "0    1307355  2010-02-20  2010     Newton         1385        Statutory   \n",
       "1   11401303  2010-09-13  2010    Pacific         1485         Property   \n",
       "2   70309629  2010-08-09  2010     Newton         1324  Financial/Other   \n",
       "3   90631215  2010-01-05  2010  Hollywood          646        Statutory   \n",
       "4  100100501  2010-01-03  2010    Central          176         Inchoate   \n",
       "\n",
       "  Crime Severity                                        Crm Cd Desc  Arrested  \\\n",
       "0     Infraction                           VIOLATION OF COURT ORDER         1   \n",
       "1         Felony  VANDALISM - FELONY ($400 & OVER, ALL CHURCH VA...         0   \n",
       "2         Others                          OTHER MISCELLANEOUS CRIME         0   \n",
       "3     Infraction                           VIOLATION OF COURT ORDER         0   \n",
       "4         Felony                                    RAPE, ATTEMPTED         0   \n",
       "\n",
       "       LAT       LON  \n",
       "0  33.9825 -118.2695  \n",
       "1  33.9599 -118.3962  \n",
       "2  34.0224 -118.2524  \n",
       "3  34.1016 -118.3295  \n",
       "4  34.0387 -118.2488  "
      ]
     },
     "execution_count": 2,
     "metadata": {},
     "output_type": "execute_result"
    }
   ],
   "source": [
    "crimes = pd.read_csv('../data/cleaned/crime-processed.csv')\n",
    "crimes.head()"
   ]
  },
  {
   "cell_type": "code",
   "execution_count": null,
   "metadata": {},
   "outputs": [],
   "source": [
    "crimes.isnull().mean()"
   ]
  },
  {
   "cell_type": "code",
   "execution_count": null,
   "metadata": {},
   "outputs": [],
   "source": [
    "crimes.dtypes"
   ]
  },
  {
   "cell_type": "code",
   "execution_count": null,
   "metadata": {},
   "outputs": [],
   "source": [
    "display(Image('../viz/EDA/Crime/crimes_by_year.png'))"
   ]
  },
  {
   "cell_type": "code",
   "execution_count": null,
   "metadata": {},
   "outputs": [],
   "source": [
    "display(Image('../viz/EDA/Crime/crimes_by_area.png'))"
   ]
  },
  {
   "cell_type": "code",
   "execution_count": null,
   "metadata": {
    "scrolled": false
   },
   "outputs": [],
   "source": [
    "display(Image('../viz/EDA/Crime/crimes_by_area_year.png'))"
   ]
  },
  {
   "cell_type": "code",
   "execution_count": null,
   "metadata": {},
   "outputs": [],
   "source": [
    "display(Image('../viz/EDA/Crime/arrests_by_year.png'))"
   ]
  },
  {
   "cell_type": "code",
   "execution_count": null,
   "metadata": {},
   "outputs": [],
   "source": [
    "display(Image('../viz/EDA/Crime/arrests_by_area_year.png'))"
   ]
  },
  {
   "cell_type": "code",
   "execution_count": null,
   "metadata": {},
   "outputs": [],
   "source": [
    "display(Image('../viz/EDA/Crime/tp_distr.png'))"
   ]
  },
  {
   "cell_type": "code",
   "execution_count": null,
   "metadata": {},
   "outputs": [],
   "source": [
    "display(Image('../viz/EDA/Crime/tp_distr_area.png'))"
   ]
  },
  {
   "cell_type": "code",
   "execution_count": null,
   "metadata": {
    "scrolled": false
   },
   "outputs": [],
   "source": [
    "display(Image('../viz/EDA/Crime/tp_distr_by_area_year.png'))"
   ]
  },
  {
   "cell_type": "code",
   "execution_count": null,
   "metadata": {},
   "outputs": [],
   "source": [
    "display(Image('../viz/EDA/Crime/sev_distr.png'))"
   ]
  },
  {
   "cell_type": "code",
   "execution_count": null,
   "metadata": {},
   "outputs": [],
   "source": [
    "display(Image('../viz/EDA/Crime/sev_distr_by_area.png'))"
   ]
  },
  {
   "cell_type": "code",
   "execution_count": null,
   "metadata": {},
   "outputs": [],
   "source": [
    "display(Image('../viz/EDA/Crime/sev_distr_by_area_year.png'))"
   ]
  },
  {
   "cell_type": "code",
   "execution_count": null,
   "metadata": {},
   "outputs": [],
   "source": []
  }
 ],
 "metadata": {
  "kernelspec": {
   "display_name": "Python 3",
   "language": "python",
   "name": "python3"
  },
  "language_info": {
   "codemirror_mode": {
    "name": "ipython",
    "version": 3
   },
   "file_extension": ".py",
   "mimetype": "text/x-python",
   "name": "python",
   "nbconvert_exporter": "python",
   "pygments_lexer": "ipython3",
   "version": "3.7.3"
  }
 },
 "nbformat": 4,
 "nbformat_minor": 2
}
